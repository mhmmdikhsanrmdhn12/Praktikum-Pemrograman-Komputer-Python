{
 "cells": [
  {
   "cell_type": "markdown",
   "metadata": {},
   "source": [
    "# Pertemuan 4"
   ]
  },
  {
   "cell_type": "markdown",
   "metadata": {},
   "source": [
    "## Konstruksi IF THEN"
   ]
  },
  {
   "cell_type": "code",
   "execution_count": null,
   "metadata": {},
   "outputs": [],
   "source": [
    "angka = int(input(\"Masukkan angka\"))\n",
    "\n",
    "if angka % 2 == 0:\n",
    "    print(f\"{angka} adalah bilangan GENAP\")"
   ]
  },
  {
   "cell_type": "markdown",
   "metadata": {},
   "source": [
    "## Konstruksi IF THEN ELSE"
   ]
  },
  {
   "cell_type": "code",
   "execution_count": null,
   "metadata": {},
   "outputs": [],
   "source": [
    "tahun = int(input(\"Masukkan tahun\"))\n",
    "\n",
    "if (tahun % 4 == 0 and tahun % 100 != 0) or (tahun % 400 == 0):\n",
    "    print(f\"{tahun} adalah tahun kabisat\")\n",
    "else:\n",
    "    print(f\"{tahun} bukan tahun kabisat\")"
   ]
  },
  {
   "cell_type": "markdown",
   "metadata": {},
   "source": [
    "## Konstruksi ELIF"
   ]
  },
  {
   "cell_type": "code",
   "execution_count": null,
   "metadata": {},
   "outputs": [],
   "source": [
    "bil1 = int(input(\"Masukkan angka ke 1\"))\n",
    "bil2 = int(input(\"Masukkan angka ke 2\"))\n",
    "operator = input(\"Masukkan operasi yang diinginkan (+, - , *, /)\")\n",
    "\n",
    "if operator == \"+\":\n",
    "    hasil = bil1 + bil2\n",
    "    print(f\"{bil1} + {bil2} = {hasil}\")\n",
    "elif operator == \"-\":\n",
    "    hasil = bil1 - bil2\n",
    "    print(f\"{bil1} - {bil2} = {hasil}\")\n",
    "elif operator == \"*\":\n",
    "    hasil = bil1 * bil2\n",
    "    print(f\"{bil1} * {bil2} = {hasil}\")\n",
    "elif operator == \"/\":\n",
    "    hasil = bil1 / bil2\n",
    "    print(f\"{bil1} / {bil2} = {hasil}\")\n",
    "else:\n",
    "    print(\"Operator tidak tersedia\")"
   ]
  },
  {
   "cell_type": "markdown",
   "metadata": {},
   "source": [
    "Mendeklarasikan variable 'bil1' yang digunakan untuk menyimpan inputan dari user, dengan tipe data integer.\n",
    "Mendeklarasikan variable 'bil2' yang digunakan untuk menyimpan inputan dari user, dengan tipe data integer.\n",
    "Mendeklarasikan variable 'operator' yang digunakan untuk menyimpan inputan dari user, dengan tipe data string.\n",
    "jika kondisi 1 terpenuhi maka akan menjalankan operasi penjumlahan yang disimpan ke variable hasil dan di tampilkan ke user\n",
    "jika kondisi 2 terpenuhi maka akan menjalankan operasi pengurangan yang disimpan ke variable hasil dan di tampilkan ke user\n",
    "jika kondisi 3 terpenuhi maka akan menjalankan operasi perkalian yang disimpan ke variable hasil dan di tampilkan ke user\n",
    "jika kondisi 4 terpenuhi maka akan menjalankan operasi pembagian yang disimpan ke variable hasil dan di tampilkan ke user\n",
    "jika tidak ada kondisi yang terpenuhi maka akan menampilkan \"Operator tidak tersedia\""
   ]
  },
  {
   "cell_type": "markdown",
   "metadata": {},
   "source": [
    "## Konstruksi MATCH-CASE"
   ]
  },
  {
   "cell_type": "code",
   "execution_count": null,
   "metadata": {},
   "outputs": [],
   "source": [
    "# Menentukan hari dalam seminggu\n",
    "hari = input(\"Masukkan hari (Senin, Selasa, Rabu, Kamis, Jumat, Sabtu, Minggu): \").lower()\n",
    "\n",
    "match hari:\n",
    "  case \"senin\":\n",
    "    print(\"Semangat menjalani awal pekan!\")\n",
    "  case \"selasa\" | \"rabu\" | \"kamis\" | \"jumat\":\n",
    "    print(\"Hari kerja, terus semangat!\")\n",
    "  case \"sabtu\" | \"minggu\":\n",
    "    print(\"Selamat akhir pekan!\")\n",
    "  case _:\n",
    "    print(\"Hari yang dimasukkan tidak valid.\")"
   ]
  },
  {
   "cell_type": "code",
   "execution_count": null,
   "metadata": {},
   "outputs": [],
   "source": [
    "tahun = int(input(\"Masukkan tahun\"))\n",
    "\n",
    "match tahun:\n",
    "    case int if (tahun % 4 == 0 and tahun % 100 != 0) or (tahun % 400 == 0):\n",
    "        print(f\"{tahun} adalah tahun kabisat\")\n",
    "    case _:\n",
    "        print(f\"{tahun} bukan tahun kabisat\")"
   ]
  }
 ],
 "metadata": {
  "kernelspec": {
   "display_name": "Python 3",
   "language": "python",
   "name": "python3"
  },
  "language_info": {
   "codemirror_mode": {
    "name": "ipython",
    "version": 3
   },
   "file_extension": ".py",
   "mimetype": "text/x-python",
   "name": "python",
   "nbconvert_exporter": "python",
   "pygments_lexer": "ipython3",
   "version": "3.12.3"
  }
 },
 "nbformat": 4,
 "nbformat_minor": 2
}

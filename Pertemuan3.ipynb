{
 "cells": [
  {
   "cell_type": "markdown",
   "metadata": {},
   "source": [
    "# Pertemuan 3"
   ]
  },
  {
   "cell_type": "markdown",
   "metadata": {},
   "source": [
    "## Input/Output"
   ]
  },
  {
   "cell_type": "markdown",
   "metadata": {},
   "source": [
    "### Contoh Input"
   ]
  },
  {
   "cell_type": "code",
   "execution_count": 1,
   "metadata": {},
   "outputs": [
    {
     "name": "stdout",
     "output_type": "stream",
     "text": [
      "Halo, Budi\n",
      "Umur Anda: 17\n",
      "IPK Anda: 3.8\n"
     ]
    }
   ],
   "source": [
    "# Contoh Input String\n",
    "nama = input(\"Masukkan nama Anda: \")\n",
    "print(\"Halo,\", nama)\n",
    "\n",
    "# Contoh Input Integer\n",
    "umur = int(input(\"Masukkan umur bulat: \"))\n",
    "print(\"Umur Anda:\", umur)\n",
    "\n",
    "# Contoh Input Float\n",
    "ipk = float(input(\"Masukkan bilangan ipk: \"))\n",
    "print(\"IPK Anda:\", ipk)"
   ]
  },
  {
   "cell_type": "markdown",
   "metadata": {},
   "source": [
    "### Contoh Input Yang di Pisahkan Spasi"
   ]
  },
  {
   "cell_type": "code",
   "execution_count": 2,
   "metadata": {},
   "outputs": [
    {
     "name": "stdout",
     "output_type": "stream",
     "text": [
      "Bilangan pertama: 1\n",
      "Bilangan kedua: 3\n"
     ]
    }
   ],
   "source": [
    "bil = input(\"Masukkan dua bilangan bulat dipisahkan oleh spasi: \")\n",
    "# Membagi variable bil menjadi variable bil1 dan bil2\n",
    "bil1, bil2 = map(int, bil.split())\n",
    "print(\"Bilangan pertama:\", bil1)\n",
    "print(\"Bilangan kedua:\", bil2)"
   ]
  },
  {
   "cell_type": "markdown",
   "metadata": {},
   "source": [
    "### Macam-Macam Jenis Output Pada Python"
   ]
  },
  {
   "cell_type": "code",
   "execution_count": 3,
   "metadata": {},
   "outputs": [
    {
     "name": "stdout",
     "output_type": "stream",
     "text": [
      "Hallo Budi Umur anda: 17 IPK anda: 3.8\n",
      "Hallo Budi, Umur anda: 17 IPK anda: 3.8\n",
      "Hallo Budi, Umur anda: 17, IPK anda: 3.8\n",
      "Hallo Budi, Umur anda: 17, IPK anda: 3.8\n"
     ]
    }
   ],
   "source": [
    "print(\"Hallo\", nama, \"Umur anda:\", umur, \"IPK anda:\", ipk)\n",
    "print(\"Hallo \"+ nama+ \", Umur anda:\", umur, \"IPK anda:\", ipk)\n",
    "print(\"Hallo %s, Umur anda: %i, IPK anda: %.1f\" % (nama, umur, ipk))\n",
    "print(f\"Hallo {nama}, Umur anda: {umur}, IPK anda: {ipk}\")"
   ]
  },
  {
   "cell_type": "markdown",
   "metadata": {},
   "source": [
    "## Struktur Runtunan"
   ]
  },
  {
   "cell_type": "markdown",
   "metadata": {},
   "source": [
    "### Contoh Menghitung Luas dan Keliling Lingkaran"
   ]
  },
  {
   "cell_type": "code",
   "execution_count": 8,
   "metadata": {},
   "outputs": [
    {
     "name": "stdout",
     "output_type": "stream",
     "text": [
      "Pi = 3.14\n",
      "jari-jari = 3\n",
      "Luas lingkaran = 28.29\n"
     ]
    }
   ],
   "source": [
    "# Input\n",
    "pi = 22/7\n",
    "r = int(input(\"jari-jari = \"))\n",
    "\n",
    "# Proses menghitung luas lingkaran\n",
    "luas = pi * r * r\n",
    "\n",
    "# output luas lingkaran\n",
    "print(\"Pi = %.2f\" %pi)\n",
    "print(\"jari-jari =\", r)\n",
    "print(\"Luas lingkaran = %.2f\" %(luas))"
   ]
  },
  {
   "cell_type": "markdown",
   "metadata": {},
   "source": [
    "Mendeklarasikan variable 'pi' yang digunakan untuk menyimpan nilai pi yaitu 22/7 atau 3.14.\n",
    "Mendeklarasikan variable 'r' yang digunakan untuk menyimpan inputan dari user, dengan tipe data integer.\n",
    "Mendeklarasikan variable 'luas' yang digunakan untuk menghitung luas lingkaran.\n",
    "'print(\"Pi = %.2f\" %pi)' digunakan untuk menampilkan nilai atau isi dari variable 'pi', dan '%.2f' digunakan untuk menampilkan menampilkan 2 bilangan setelah (,).\n",
    "'print(\"jari-jari =\", r)' digunakan untuk menampilkan nilai atau isi dari variable 'r'.\n",
    "'print(\"Luas lingkaran = %.2f\" %(luas))' digunakan untuk menampilkan nilai atau isi dari variable luas, dan '%.2f' digunakan untuk menampilkan menampilkan 2 bilangan setelah (,)."
   ]
  },
  {
   "cell_type": "code",
   "execution_count": 9,
   "metadata": {},
   "outputs": [
    {
     "name": "stdout",
     "output_type": "stream",
     "text": [
      "Pi = 3.14\n",
      "jari-jari =  3\n",
      "Keliling lingkaran = 18.86\n"
     ]
    }
   ],
   "source": [
    "# Proses menghitung keliling lingkaran\n",
    "keliling = 2 * pi * r\n",
    "\n",
    "# output keliling lingkaran\n",
    "print(\"Pi = %.2f\" %pi)\n",
    "print(\"jari-jari = \", r)\n",
    "print(\"Keliling lingkaran = %.2f\" %(keliling))"
   ]
  },
  {
   "cell_type": "markdown",
   "metadata": {},
   "source": [
    "Mendeklarasikan variable 'keliling' yang digunakan untuk menghitung keliling lingkaran.\n",
    "'print(\"Pi = %.2f\" %pi)' digunakan untuk menampilkan nilai atau isi dari variable 'pi', dan '%.2f' digunakan untuk menampilkan menampilkan 2 bilangan setelah (,).\n",
    "'print(\"jari-jari =\", r)' digunakan untuk menampilkan nilai atau isi dari variable 'r'.\n",
    "'print(\"Luas lingkaran = %.2f\" %(luas))' digunakan untuk menampilkan nilai atau isi dari variable luas, dan '%.2f' digunakan untuk menampilkan menampilkan 2 bilangan setelah (,)."
   ]
  }
 ],
 "metadata": {
  "kernelspec": {
   "display_name": "Python 3",
   "language": "python",
   "name": "python3"
  },
  "language_info": {
   "codemirror_mode": {
    "name": "ipython",
    "version": 3
   },
   "file_extension": ".py",
   "mimetype": "text/x-python",
   "name": "python",
   "nbconvert_exporter": "python",
   "pygments_lexer": "ipython3",
   "version": "3.10.7"
  }
 },
 "nbformat": 4,
 "nbformat_minor": 2
}

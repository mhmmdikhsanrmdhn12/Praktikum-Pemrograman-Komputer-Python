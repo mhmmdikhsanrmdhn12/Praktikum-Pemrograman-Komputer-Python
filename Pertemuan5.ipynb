{
 "cells": [
  {
   "cell_type": "markdown",
   "metadata": {},
   "source": [
    "# Pertemuan 5"
   ]
  },
  {
   "cell_type": "markdown",
   "metadata": {},
   "source": [
    "## Konstruksi `For Loop`"
   ]
  },
  {
   "cell_type": "markdown",
   "metadata": {},
   "source": [
    "### `For Loop`"
   ]
  },
  {
   "cell_type": "code",
   "execution_count": null,
   "metadata": {},
   "outputs": [],
   "source": [
    "fruits = [\"apel\", \"pisang\", \"jeruk\"]\n",
    "\n",
    "for i in fruits:\n",
    "    print(i)"
   ]
  },
  {
   "cell_type": "markdown",
   "metadata": {},
   "source": [
    "### `For Loop` menggunakan range dengan start, stop dan step"
   ]
  },
  {
   "cell_type": "code",
   "execution_count": null,
   "metadata": {},
   "outputs": [],
   "source": [
    "for i in range (20, 100, 20):\n",
    "    print(i)"
   ]
  },
  {
   "cell_type": "markdown",
   "metadata": {},
   "source": [
    "## Konstruksi `While Loop`"
   ]
  },
  {
   "cell_type": "markdown",
   "metadata": {},
   "source": [
    "### `While Loop` sederhana"
   ]
  },
  {
   "cell_type": "code",
   "execution_count": null,
   "metadata": {},
   "outputs": [],
   "source": [
    "i = 20\n",
    "while i >= 2:\n",
    "    print(i)\n",
    "    i -= 2"
   ]
  },
  {
   "cell_type": "markdown",
   "metadata": {},
   "source": [
    "### `While Loop` tak terbatas(infinite loop)"
   ]
  },
  {
   "cell_type": "code",
   "execution_count": null,
   "metadata": {},
   "outputs": [],
   "source": [
    "print(\"1. Menghitung Luas Lingkaran\")\n",
    "print(\"2. Menghitung Luas Persegi Panjang\")\n",
    "print(\"3. Keluar dari program\")\n",
    "\n",
    "while True:\n",
    "    user_input = input(\"Masukkan pilihan anda\")\n",
    "    if user_input == \"1\":\n",
    "        r = int(input(\"Masukkan jari-jari\"))\n",
    "        pi = 22/7\n",
    "        luas = pi * r * r\n",
    "        print(f\"Luas Lingkaran = {luas}\")\n",
    "    elif user_input == \"2\":\n",
    "        p = int(input(\"Masukkan panjang\"))\n",
    "        l = int(input(\"Masukkan lebar\"))\n",
    "        luas = p * l\n",
    "        print(f\"Luas Persegi Panjang = {luas}\")\n",
    "    elif user_input == \"3\":\n",
    "        break\n",
    "    else:\n",
    "        print(\"Pilihan Tidak Tersedia\")"
   ]
  }
 ],
 "metadata": {
  "kernelspec": {
   "display_name": "Python 3",
   "language": "python",
   "name": "python3"
  },
  "language_info": {
   "codemirror_mode": {
    "name": "ipython",
    "version": 3
   },
   "file_extension": ".py",
   "mimetype": "text/x-python",
   "name": "python",
   "nbconvert_exporter": "python",
   "pygments_lexer": "ipython3",
   "version": "3.12.3"
  }
 },
 "nbformat": 4,
 "nbformat_minor": 2
}

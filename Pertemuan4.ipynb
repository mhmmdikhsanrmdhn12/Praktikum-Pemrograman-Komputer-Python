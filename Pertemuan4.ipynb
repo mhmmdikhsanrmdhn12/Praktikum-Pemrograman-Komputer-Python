{
 "cells": [
  {
   "cell_type": "markdown",
   "metadata": {},
   "source": [
    "# Pertemuan 4"
   ]
  },
  {
   "cell_type": "markdown",
   "metadata": {},
   "source": [
    "## Kontruksi IF ELSE"
   ]
  },
  {
   "cell_type": "code",
   "execution_count": 8,
   "metadata": {},
   "outputs": [],
   "source": [
    "umur = int(input(\"Masukkan umur anda\"))\n",
    "\n",
    "if umur < 18:\n",
    "    print(\"Anda masih di bawah umur\")"
   ]
  },
  {
   "cell_type": "markdown",
   "metadata": {},
   "source": [
    "## Konstruksi IF ELSE"
   ]
  },
  {
   "cell_type": "code",
   "execution_count": null,
   "metadata": {},
   "outputs": [],
   "source": [
    "angka = int(input(\"Masukkan Angka\"))\n",
    "\n",
    "if angka % 2 == 0:\n",
    "    print(f\"{angka} adalah bilangan GENAP\")\n",
    "else:\n",
    "    print(f\"{angka} adalah bilangan GANJIL\")"
   ]
  },
  {
   "cell_type": "markdown",
   "metadata": {},
   "source": [
    "## Kontruksi ELIF"
   ]
  },
  {
   "cell_type": "code",
   "execution_count": null,
   "metadata": {},
   "outputs": [],
   "source": [
    "bil1 = int(input(\"Masukkan angka ke 1\"))\n",
    "bil2 = int(input(\"Masukkan angka ke 2\"))\n",
    "operator = input(\"Masukkan operasi yang diinginkan (+, - , *, /)\")\n",
    "\n",
    "if operator == \"+\":\n",
    "    hasil = bil1 + bil2\n",
    "    print(f\"{bil1} + {bil2} = {hasil}\")\n",
    "elif operator == \"-\":\n",
    "    hasil = bil1 - bil2\n",
    "    print(f\"{bil1} - {bil2} = {hasil}\")\n",
    "elif operator == \"*\":\n",
    "    hasil = bil1 * bil2\n",
    "    print(f\"{bil1} * {bil2} = {hasil}\")\n",
    "elif operator == \"/\":\n",
    "    hasil = bil1 / bil2\n",
    "    print(f\"{bil1} / {bil2} = {hasil}\")\n",
    "else:\n",
    "    print(\"Operator tidak tersedia\")"
   ]
  },
  {
   "cell_type": "markdown",
   "metadata": {},
   "source": [
    "Mendeklarasikan variable 'bil1' yang digunakan untuk menyimpan inputan dari user, dengan tipe data integer.\n",
    "Mendeklarasikan variable 'bil2' yang digunakan untuk menyimpan inputan dari user, dengan tipe data integer.\n",
    "Mendeklarasikan variable 'operator' yang digunakan untuk menyimpan inputan dari user, dengan tipe data string.\n",
    "jika kondisi 1 terpenuhi maka akan menjalankan operasi penjumlahan yang disimpan ke variable hasil dan di tampilkan ke user\n",
    "jika kondisi 2 terpenuhi maka akan menjalankan operasi pengurangan yang disimpan ke variable hasil dan di tampilkan ke user\n",
    "jika kondisi 3 terpenuhi maka akan menjalankan operasi perkalian yang disimpan ke variable hasil dan di tampilkan ke user\n",
    "jika kondisi 4 terpenuhi maka akan menjalankan operasi pembagian yang disimpan ke variable hasil dan di tampilkan ke user\n",
    "jika tidak ada kondisi yang terpenuhi maka akan menampilkan \"Operator tidak tersedia\""
   ]
  }
 ],
 "metadata": {
  "kernelspec": {
   "display_name": "Python 3",
   "language": "python",
   "name": "python3"
  },
  "language_info": {
   "codemirror_mode": {
    "name": "ipython",
    "version": 3
   },
   "file_extension": ".py",
   "mimetype": "text/x-python",
   "name": "python",
   "nbconvert_exporter": "python",
   "pygments_lexer": "ipython3",
   "version": "3.10.7"
  }
 },
 "nbformat": 4,
 "nbformat_minor": 2
}

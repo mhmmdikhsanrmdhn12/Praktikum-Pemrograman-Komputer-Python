{
 "cells": [
  {
   "cell_type": "code",
   "execution_count": 1,
   "metadata": {},
   "outputs": [
    {
     "name": "stdout",
     "output_type": "stream",
     "text": [
      "Kode\tNama Menu\tJenis Menu\tHarga Satuan\n",
      "1\tAmericano\tCoffee\t\tRp 20.000\n",
      "2\tMatcha\t\tNon Coffee\tRp 25.000\n",
      "3\tCroffle\t\tFood\t\tRp 23.000\n"
     ]
    }
   ],
   "source": [
    "print(\"Kode\\tNama Menu\\tJenis Menu\\tHarga Satuan\")\n",
    "print(\"1\\tAmericano\\tCoffee\\t\\tRp 20.000\")\n",
    "print(\"2\\tMatcha\\t\\tNon Coffee\\tRp 25.000\")\n",
    "print(\"3\\tCroffle\\t\\tFood\\t\\tRp 23.000\")"
   ]
  },
  {
   "cell_type": "code",
   "execution_count": null,
   "metadata": {},
   "outputs": [],
   "source": [
    "import numpy as np\n",
    "\n",
    "banyak_menu = int(input(\"Total menu yang ingin di pesan\"))\n",
    "harga = np.zeros(banyak_menu, dtype=int)\n",
    "\n",
    "for i in range(banyak_menu):\n",
    "    pilihan = int(input(f\"Masukkan kode menu, Menu ke-{i+1}\"))\n",
    "\n",
    "    if (pilihan == 1):\n",
    "        harga[i] = 20000\n",
    "    elif (pilihan == 2):\n",
    "        harga[i] = 25000\n",
    "    elif (pilihan == 3):\n",
    "        harga[i] = 23000\n",
    "    else:\n",
    "        harga[i] = 0\n",
    "    \n",
    "    total_belanja = sum(harga)\n",
    "\n",
    "ppn = total_belanja * 0.11\n",
    "\n",
    "if (total_belanja > 50000):\n",
    "    diskon = total_belanja * 0.15\n",
    "    total_bayar = (total_belanja - diskon) + ppn\n",
    "else:\n",
    "    total_bayar = total_belanja + ppn\n",
    "\n",
    "print(\"Total yang harus dibayar = Rp %.0f\" % (total_bayar))"
   ]
  }
 ],
 "metadata": {
  "kernelspec": {
   "display_name": "Python 3",
   "language": "python",
   "name": "python3"
  },
  "language_info": {
   "codemirror_mode": {
    "name": "ipython",
    "version": 3
   },
   "file_extension": ".py",
   "mimetype": "text/x-python",
   "name": "python",
   "nbconvert_exporter": "python",
   "pygments_lexer": "ipython3",
   "version": "3.12.3"
  }
 },
 "nbformat": 4,
 "nbformat_minor": 2
}

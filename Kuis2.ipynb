{
 "cells": [
  {
   "cell_type": "code",
   "execution_count": 5,
   "metadata": {},
   "outputs": [
    {
     "name": "stdout",
     "output_type": "stream",
     "text": [
      "Kode\tJenis Barang\tMerek Barang\tHarga Barang\n",
      "1\tBaju\t\tSupreme\t\tRp 900.000\n",
      "2\tCelana\t\tMischief\tRp 650.000\n",
      "3\tTopi\t\tVolcom\t\tRp 500.000\n"
     ]
    }
   ],
   "source": [
    "print(\"Kode\\tJenis Barang\\tMerek Barang\\tHarga Barang\")\n",
    "print(\"1\\tBaju\\t\\tSupreme\\t\\tRp 900.000\")\n",
    "print(\"2\\tCelana\\t\\tMischief\\tRp 650.000\")\n",
    "print(\"3\\tTopi\\t\\tVolcom\\t\\tRp 500.000\")"
   ]
  },
  {
   "cell_type": "code",
   "execution_count": null,
   "metadata": {},
   "outputs": [],
   "source": [
    "import numpy as np\n",
    "\n",
    "banyak_menu = int(input(\"Total barang di beli\"))\n",
    "harga = np.zeros(banyak_menu, dtype=int)\n",
    "\n",
    "for i in range(banyak_menu):\n",
    "    pilihan = int(input(f\"Masukkan kode barang, barang ke-{i+1}\"))\n",
    "\n",
    "    if (pilihan == 1):\n",
    "        harga[i] = 900000\n",
    "    elif (pilihan == 2):\n",
    "        harga[i] = 650000\n",
    "    elif (pilihan == 3):\n",
    "        harga[i] = 500000\n",
    "    else:\n",
    "        harga[i] = 0\n",
    "    \n",
    "    total_belanja = sum(harga)\n",
    "\n",
    "ppn = total_belanja * 0.11\n",
    "\n",
    "if (total_belanja > 1500000):\n",
    "    diskon = total_belanja - 200000\n",
    "    total_bayar = (total_belanja - diskon) + ppn\n",
    "else:\n",
    "    total_bayar = total_belanja + ppn\n",
    "\n",
    "print(\"Total yang harus dibayar = Rp %.0f\" % (total_bayar))"
   ]
  }
 ],
 "metadata": {
  "kernelspec": {
   "display_name": "Python 3",
   "language": "python",
   "name": "python3"
  },
  "language_info": {
   "codemirror_mode": {
    "name": "ipython",
    "version": 3
   },
   "file_extension": ".py",
   "mimetype": "text/x-python",
   "name": "python",
   "nbconvert_exporter": "python",
   "pygments_lexer": "ipython3",
   "version": "3.12.3"
  }
 },
 "nbformat": 4,
 "nbformat_minor": 2
}

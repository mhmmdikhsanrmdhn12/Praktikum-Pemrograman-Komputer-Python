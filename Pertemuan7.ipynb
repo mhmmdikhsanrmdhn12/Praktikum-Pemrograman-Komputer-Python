{
 "cells": [
  {
   "cell_type": "markdown",
   "metadata": {},
   "source": [
    "# Pertemuan 7"
   ]
  },
  {
   "cell_type": "markdown",
   "metadata": {},
   "source": [
    "## Array numpy 1 dimensi"
   ]
  },
  {
   "cell_type": "markdown",
   "metadata": {},
   "source": [
    "pip install numpy"
   ]
  },
  {
   "cell_type": "code",
   "execution_count": null,
   "metadata": {},
   "outputs": [],
   "source": [
    "import numpy as np"
   ]
  },
  {
   "cell_type": "code",
   "execution_count": null,
   "metadata": {},
   "outputs": [],
   "source": [
    "def input_1d_array():\n",
    "    size = int(input(\"Masukkan jumlah elemen array: \"))\n",
    "    array = np.zeros(size, dtype=int)\n",
    "\n",
    "    for i in range(size):\n",
    "        array[i] = int(input(f\"Masukkan elemen ke-{i+1}: \"))\n",
    "    \n",
    "    return array\n",
    "\n",
    "array = input_1d_array()\n",
    "print(\"Array yang dimasukkan:\", array)"
   ]
  },
  {
   "cell_type": "markdown",
   "metadata": {},
   "source": [
    "## Array numpy 2 dimensi"
   ]
  },
  {
   "cell_type": "code",
   "execution_count": null,
   "metadata": {},
   "outputs": [],
   "source": [
    "def input_2d_array():\n",
    "    rows = int(input(\"Masukkan jumlah baris: \"))\n",
    "    cols = int(input(\"Masukkan jumlah kolom: \"))\n",
    "\n",
    "    matrix = np.zeros((rows, cols), dtype=int)\n",
    "\n",
    "    for i in range(rows):\n",
    "        for j in range(cols):\n",
    "            matrix[i, j] = int(input(f\"Masukkan elemen [{i+1},{j+1}]: \"))\n",
    "\n",
    "    return matrix\n",
    "\n",
    "# Example usage\n",
    "matrix = input_2d_array()\n",
    "print(\"Array 2D yang dimasukkan: \", matrix)"
   ]
  },
  {
   "cell_type": "markdown",
   "metadata": {},
   "source": [
    "## Pandas"
   ]
  },
  {
   "cell_type": "markdown",
   "metadata": {},
   "source": [
    "pip install pandas"
   ]
  },
  {
   "cell_type": "code",
   "execution_count": null,
   "metadata": {},
   "outputs": [],
   "source": [
    "import pandas as pd"
   ]
  },
  {
   "cell_type": "code",
   "execution_count": null,
   "metadata": {},
   "outputs": [],
   "source": [
    "data = pd.read_csv(\"data.csv\")\n",
    "\n",
    "df = pd.DataFrame(data)\n",
    "\n",
    "nama = df[\"nama\"]\n",
    "umur = df[\"umur\"]\n",
    "\n",
    "df_filtered = df[df[\"umur\"] < 40]\n",
    "\n",
    "print(data)"
   ]
  }
 ],
 "metadata": {
  "kernelspec": {
   "display_name": "Python 3",
   "language": "python",
   "name": "python3"
  },
  "language_info": {
   "codemirror_mode": {
    "name": "ipython",
    "version": 3
   },
   "file_extension": ".py",
   "mimetype": "text/x-python",
   "name": "python",
   "nbconvert_exporter": "python",
   "pygments_lexer": "ipython3",
   "version": "3.12.3"
  }
 },
 "nbformat": 4,
 "nbformat_minor": 2
}

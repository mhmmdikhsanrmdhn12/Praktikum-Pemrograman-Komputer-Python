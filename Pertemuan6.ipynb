{
 "cells": [
  {
   "cell_type": "markdown",
   "metadata": {},
   "source": [
    "# Pertemuan 6"
   ]
  },
  {
   "cell_type": "markdown",
   "metadata": {},
   "source": [
    "## Konstruksi `Prosedur`"
   ]
  },
  {
   "cell_type": "code",
   "execution_count": null,
   "metadata": {},
   "outputs": [],
   "source": [
    "def luas_layang(d1, d2):\n",
    "    print(f\"Diagonal 1 = {d1}\")\n",
    "    print(f\"Diagonal 2 = {d2}\")\n",
    "    luas = 0.5 * d1 * d2\n",
    "    print(f\"Luas layang-layang = {luas}\")\n",
    "\n",
    "diagonal1 = int(input(\"Masukkan diagonal 1\"))\n",
    "diagonal2 = int(input(\"Masukkan diagonal 2\"))\n",
    "\n",
    "luas_layang(diagonal1, diagonal2)"
   ]
  },
  {
   "cell_type": "markdown",
   "metadata": {},
   "source": [
    "## Konstruksi `Fungsi`"
   ]
  },
  {
   "cell_type": "code",
   "execution_count": null,
   "metadata": {},
   "outputs": [],
   "source": [
    "def luas_persegi_panjang(p, l):\n",
    "    print(f\"Panjang = {p}\")\n",
    "    print(f\"Lebar = {l}\")\n",
    "    luas = p * l\n",
    "    return luas\n",
    "\n",
    "panjang = int(input(\"Masukkan panjang\"))\n",
    "lebar = int(input(\"Masukkan lebar\"))\n",
    "\n",
    "hasil = luas_persegi_panjang(panjang, lebar)\n",
    "\n",
    "print(f\"Luas Persegi Panjang = {hasil}\")"
   ]
  }
 ],
 "metadata": {
  "kernelspec": {
   "display_name": "Python 3",
   "language": "python",
   "name": "python3"
  },
  "language_info": {
   "codemirror_mode": {
    "name": "ipython",
    "version": 3
   },
   "file_extension": ".py",
   "mimetype": "text/x-python",
   "name": "python",
   "nbconvert_exporter": "python",
   "pygments_lexer": "ipython3",
   "version": "3.12.3"
  }
 },
 "nbformat": 4,
 "nbformat_minor": 2
}
